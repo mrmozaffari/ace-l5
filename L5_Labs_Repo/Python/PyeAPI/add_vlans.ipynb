{
 "cells": [
  {
   "cell_type": "code",
   "execution_count": null,
   "metadata": {},
   "outputs": [],
   "source": [
    "import yaml\n",
    "import pyeapi\n",
    "\n",
    "file = open('vlans.yml','r')\n",
    "pyeapi.load_config('./eapi.conf')\n",
    "connections = pyeapi.config_for('leaf1')\n",
    "print(connections)\n",
    "vlan_dict = yaml.safe_load(file)"
   ]
  },
  {
   "cell_type": "code",
   "execution_count": null,
   "metadata": {},
   "outputs": [],
   "source": [
    "\n",
    "\n",
    "#print(vlan_dict)\n",
    "\n",
    "for switch in vlan_dict['switches']:\n",
    "    print(f\"Connecting to {switch}\")\n",
    "    connect = pyeapi.connect_to(switch)\n",
    "    vlan_api = connect.api('vlans')\n",
    "    for vlan in vlan_dict['vlans']:\n",
    "        vlan_id=vlan['id']\n",
    "        vlan_name=vlan['name']\n",
    "        print(f'Adding vlan {vlan_id} to switch {switch}')\n",
    "        vlan_api.create(vlan_id)\n",
    "        vlan_api.set_name(vlan_id,vlan_name)"
   ]
  }
 ],
 "metadata": {
  "kernelspec": {
   "display_name": "Python 3.9.2 64-bit",
   "language": "python",
   "name": "python3"
  },
  "language_info": {
   "codemirror_mode": {
    "name": "ipython",
    "version": 3
   },
   "file_extension": ".py",
   "mimetype": "text/x-python",
   "name": "python",
   "nbconvert_exporter": "python",
   "pygments_lexer": "ipython3",
   "version": "3.9.2"
  },
  "orig_nbformat": 4,
  "vscode": {
   "interpreter": {
    "hash": "31f2aee4e71d21fbe5cf8b01ff0e069b9275f58929596ceb00d14d90e3e16cd6"
   }
  }
 },
 "nbformat": 4,
 "nbformat_minor": 2
}
