{
 "cells": [
  {
   "cell_type": "code",
   "execution_count": null,
   "metadata": {},
   "outputs": [],
   "source": [
    "import os\n",
    "import yaml\n",
    "import pyeapi\n",
    "\n",
    "pyeapi.load_config('./eapi.conf')\n",
    "#connections = pyeapi.config_for('leaf1')"
   ]
  },
  {
   "cell_type": "code",
   "execution_count": null,
   "metadata": {},
   "outputs": [],
   "source": [
    "directory = \"configs\"\n",
    "exists = os.path.exists(directory)\n",
    "if not exists:\n",
    "    os.makedirs(directory)"
   ]
  },
  {
   "cell_type": "code",
   "execution_count": null,
   "metadata": {},
   "outputs": [],
   "source": [
    "switches1 = ['leaf1', 'leaf2', 'leaf3', 'leaf4', 'spine1', 'spine2', 'spine3', 'spine4', 'borderleaf1', 'borderleaf2']"
   ]
  },
  {
   "cell_type": "markdown",
   "metadata": {},
   "source": [
    ">If you want to read the files from switches.yml file for the switch names:"
   ]
  },
  {
   "cell_type": "code",
   "execution_count": null,
   "metadata": {},
   "outputs": [],
   "source": [
    "# Path to the YAML file\n",
    "yaml_file = 'switches.yml'\n",
    "\n",
    "# If YAML file doesn't exist, create a template\n",
    "if not os.path.exists(yaml_file):\n",
    "    default_data = {\n",
    "        'switches': [\n",
    "            'leaf1', 'leaf2', 'leaf3', 'leaf4',\n",
    "            'spine1', 'spine2', 'spine3', 'spine4',\n",
    "            'borderleaf1', 'borderleaf2'\n",
    "        ]\n",
    "    }\n",
    "    with open(yaml_file, 'w') as f:\n",
    "        yaml.dump(default_data, f, sort_keys=False)\n",
    "    print(f\"🆕 Created default '{yaml_file}'. Please review and rerun the script.\")\n",
    "    exit(0)"
   ]
  },
  {
   "cell_type": "code",
   "execution_count": null,
   "metadata": {},
   "outputs": [],
   "source": [
    "# Read switch list from YAML file\n",
    "with open('switches.yml', 'r') as f:\n",
    "    data = yaml.safe_load(f)\n",
    "    switches = data.get('switches', [])\n",
    "    print(switches)"
   ]
  },
  {
   "cell_type": "code",
   "execution_count": null,
   "metadata": {},
   "outputs": [],
   "source": [
    "for switch in switches:\n",
    "    connect = pyeapi.connect_to(switch)\n",
    "    running_config = connect.get_config(as_string='True')\n",
    "    path = directory+'/'+switch+'.cfg'\n",
    "    with open(path, 'w') as f:\n",
    "        f.write(running_config)\n"
   ]
  }
 ],
 "metadata": {
  "kernelspec": {
   "display_name": "Python 3.9.2 64-bit",
   "language": "python",
   "name": "python3"
  },
  "language_info": {
   "codemirror_mode": {
    "name": "ipython",
    "version": 3
   },
   "file_extension": ".py",
   "mimetype": "text/x-python",
   "name": "python",
   "nbconvert_exporter": "python",
   "pygments_lexer": "ipython3",
   "version": "3.9.2"
  },
  "orig_nbformat": 4,
  "vscode": {
   "interpreter": {
    "hash": "31f2aee4e71d21fbe5cf8b01ff0e069b9275f58929596ceb00d14d90e3e16cd6"
   }
  }
 },
 "nbformat": 4,
 "nbformat_minor": 2
}
